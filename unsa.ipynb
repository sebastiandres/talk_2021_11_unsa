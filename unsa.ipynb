{
 "cells": [
  {
   "cell_type": "markdown",
   "metadata": {
    "slideshow": {
     "slide_type": "slide"
    }
   },
   "source": [
    "# Pedagogía con Python\n",
    "\n",
    "## Sebastián Flores\n",
    "### 12 Noviembre 2021"
   ]
  },
  {
   "cell_type": "markdown",
   "metadata": {
    "slideshow": {
     "slide_type": "slide"
    }
   },
   "source": [
    "<div>\n",
    "    <div style=\"display: inline-block;  width: 50%;\">\n",
    "        <ul>\n",
    "            <br><br><br>\n",
    "            <li> <font style='color:#808080'>Who:</font> Sebastián Flores </li>\n",
    "            <li> <font style='color:#808080'>Day Job:</font> Chief Data Officer en uPlanner </li>\n",
    "            <li> <font style='color:#808080'>Interests:</font> Computación, Matemática y Educación </li>\n",
    "            <li> <font style='color:#808080'>Weapons of choice:</font> Python, javascript y html </li>\n",
    "            <li> <font style='color:#808080'>Where to find:</font> sebastiandres.xyz</li>\n",
    "            <li> <font style='color:#808080'>Username:</font> @sebastiandres </li>\n",
    "        </ul>\n",
    "    </div>\n",
    "    <div style=\"display: inline-block; vertical-align: text-bottom; width: 40%;\">\n",
    "        <img src=\"images/avatar.png\" alt=\"Seba y Chispy\">\n",
    "    </div>\n",
    "</div>"
   ]
  },
  {
   "cell_type": "markdown",
   "metadata": {
    "slideshow": {
     "slide_type": "slide"
    }
   },
   "source": [
    "Sobre mi formación:\n",
    "* Ingeniería Civil Matemática, Universidad Técnica Federico Santa María, Chile.\n",
    "* Ingénieur Diplômé, Mécanique Numérique, École Polytechnique, Francia. \n",
    "* Master Computational and Mathematical Engineering, Stanford University, EEUU."
   ]
  },
  {
   "cell_type": "markdown",
   "metadata": {
    "slideshow": {
     "slide_type": "slide"
    }
   },
   "source": [
    "Algunos proyectos:\n",
    "* Modelamiento de autos híbridos, PSA Peugeot Citröen.\n",
    "* Modelamiento y simulación numérica de hidrofracturas para minería subterránea, CMM Chile.\n",
    "* Modelamiento y simulación de micro-sismicidad minera, CMM Chile.\n",
    "* Desarrollo de software de simulación de tsunamis, Método Volúmenes Finitos para Shallow Water Equations, UTFSM Chile.\n",
    "* Desarrollo de librería para simulación de ecuaciones de difusión-reacción para catalizadores inmobilizados (pypsdier).\n",
    "* PyCon: 2020 (🇨🇴, 🇦🇷) y 2021 (🌎, 🇦🇷, 🇨🇱)"
   ]
  },
  {
   "cell_type": "markdown",
   "metadata": {
    "slideshow": {
     "slide_type": "slide"
    }
   },
   "source": [
    "## Agenda de la charla:\n",
    "1. Experiencia transformando un curso con Python.\n",
    "2. Algunas herramientas recomendadas.\n",
    "3. Machine Learning, Deep Learning y Data Science."
   ]
  },
  {
   "cell_type": "markdown",
   "metadata": {
    "slideshow": {
     "slide_type": "slide"
    }
   },
   "source": [
    "# 1. Transformando un curso con python\n",
    "\n",
    "*Lo que aprendí dictando un curso de programación para matemáticos...*"
   ]
  },
  {
   "cell_type": "markdown",
   "metadata": {
    "slideshow": {
     "slide_type": "slide"
    }
   },
   "source": [
    "# 1. Transformando un curso con python\n",
    "\n",
    "En el año 2014, se me ofrece dictar el curso MAT244 Aplicaciones de la Matemática para la Ingeniería. La versión oficial tenía el siguiente programa:\n",
    "\n",
    "<img src=\"images/mat244_original.png\" style=\"height:550px;\">"
   ]
  },
  {
   "cell_type": "markdown",
   "metadata": {
    "slideshow": {
     "slide_type": "slide"
    }
   },
   "source": [
    "# 1. Transformando un curso con python\n",
    "\n",
    "Mi visión: \n",
    "\n",
    "Dictar el curso que me hubiera gustado recibir."
   ]
  },
  {
   "cell_type": "markdown",
   "metadata": {
    "slideshow": {
     "slide_type": "slide"
    }
   },
   "source": [
    "# 1. Transformando un curso con python\n",
    "\n",
    "Mi primera versión del curso tenía el siguiente programa:\n",
    "\n",
    "<img src=\"images/mat244.png\" style=\"height:600px;\">"
   ]
  },
  {
   "cell_type": "markdown",
   "metadata": {
    "slideshow": {
     "slide_type": "slide"
    }
   },
   "source": [
    "# 1. Transformando un curso con python\n",
    "\n",
    "Mi resumen del curso en la primera clase dice mucho:\n",
    "\n",
    "* Curso atípico: interactivo y enfásis en vinculación a \"mundo real\"\n",
    "* Trabajo con datos reales: esencial\n",
    "* Programaremos en python\n",
    "* Para aprobar: ¡trabajar!"
   ]
  },
  {
   "cell_type": "markdown",
   "metadata": {
    "slideshow": {
     "slide_type": "slide"
    }
   },
   "source": [
    "# 1. Transformando un curso con python\n",
    "\n",
    "Algunas \"innovaciones\":\n",
    "* Exigir informes y presentaciones en beamer (latex).\n",
    "* Atrasos planificados.\n",
    "* Sin prueba. Evaluaciones: Tareas, lecturas y proyecto final.\n",
    "    * Tareas: código en Python.\n",
    "    * Lecturas: artículos interesantes.\n",
    "    * Proyecto final: tema a elección, presentación abierta a la comunidad.\n",
    "* Presentaciones, lecturas y código en un repositorio bitbucket:  https://bitbucket.org/sebastiandres/mat244"
   ]
  },
  {
   "cell_type": "markdown",
   "metadata": {
    "slideshow": {
     "slide_type": "slide"
    }
   },
   "source": [
    "# 1. Transformando un curso con python\n",
    "\n",
    "Mi sello: \n",
    "![alt text](images/saint_curious_george.png)"
   ]
  },
  {
   "cell_type": "markdown",
   "metadata": {
    "slideshow": {
     "slide_type": "slide"
    }
   },
   "source": [
    "# 1. Transformando un curso con python\n",
    "\n",
    "Año 2015.\n",
    "\n",
    "La segunda versión del curso consideró la retroalimentación de los estudiantes de reducir carga: lecturas son opcionales.\n",
    "\n",
    "Además, consideró los siguientes cambios:\n",
    "* Repositorio en github: https://github.com/usantamaria/mat281_2015S2\n",
    "* Jupyter notebooks y RISE para el contenido\n",
    "* Clases teóricas, ayudantías y laboratorios."
   ]
  },
  {
   "cell_type": "markdown",
   "metadata": {
    "slideshow": {
     "slide_type": "slide"
    }
   },
   "source": [
    "# 1. Transformando un curso con python\n",
    " \n",
    "![alt text](images/XKCD_purity1.png)"
   ]
  },
  {
   "cell_type": "markdown",
   "metadata": {
    "slideshow": {
     "slide_type": "slide"
    }
   },
   "source": [
    "# 1. Transformando un curso con python\n",
    "\n",
    "![alt text](images/XKCD_purity2.png)"
   ]
  },
  {
   "cell_type": "markdown",
   "metadata": {
    "slideshow": {
     "slide_type": "slide"
    }
   },
   "source": [
    "# 1. Transformando un curso con python\n",
    "\n",
    "Año 2018. \n",
    "\n",
    "La tercera versión del curso consideró mis aprendizajes en la industria:\n",
    "\n",
    "Otros cambios:\n",
    "* Repositorio en github: https://github.com/usantamaria/mat281_2018S2\n",
    "* Mayor foco en data science y Machine Learning, y nuevas librerías (¡pandas!).\n",
    "* Foco en laboratorios como métodos de enseñanza."
   ]
  },
  {
   "cell_type": "markdown",
   "metadata": {
    "slideshow": {
     "slide_type": "slide"
    }
   },
   "source": [
    "# 1. Transformando un curso con python\n",
    "\n",
    "Año 2019.\n",
    "\n",
    "La cuarta versión del curso ya no la dicté yo, la dictaron mis antiguos alumnos: Alonso Ogueda y Francisco Alfaro.\n",
    "\n",
    "* Repositorio en github: https://github.com/usantamaria/mat281_2019S2"
   ]
  },
  {
   "cell_type": "markdown",
   "metadata": {
    "slideshow": {
     "slide_type": "slide"
    }
   },
   "source": [
    "# 1. Transformando un curso con python\n",
    "\n",
    "Año 2021.\n",
    "\n",
    "¿Qué nuevos temas incluiría en el curso?\n",
    "\n",
    "* Data Engineering\n",
    "* Ética\n",
    "* Publicidad y la economía de la atención\n",
    "* Comunidad y open source"
   ]
  },
  {
   "cell_type": "markdown",
   "metadata": {
    "slideshow": {
     "slide_type": "slide"
    }
   },
   "source": [
    "# 1. Transformando un curso con python\n",
    "\n",
    "### Data Engineering\n",
    "\n",
    "El ingeniero de software, ingeniero de datos, científico de datos y roles similares, cada vez se vuelven más \"full stack\" y tienen que auto-atenderse en el uso de grandes volúmenes de datos. \n",
    "\n",
    "Estudiantes necesitan saber:\n",
    "* Nociones básicas de SQL\n",
    "* Nociones básicas de visualización (gráficos y dashboards)\n",
    "* Nociones básicas de data pipelines y ETLs."
   ]
  },
  {
   "cell_type": "markdown",
   "metadata": {
    "slideshow": {
     "slide_type": "slide"
    }
   },
   "source": [
    "# 1. Transformando un curso con python\n",
    "\n",
    "### Ética\n",
    "\n",
    "* \"Create a product right\" versus \"Create the right product\".\n",
    "* GDPR y protección de datos."
   ]
  },
  {
   "cell_type": "markdown",
   "metadata": {
    "slideshow": {
     "slide_type": "slide"
    }
   },
   "source": [
    "# 1. Transformando un curso con python\n",
    "\n",
    "### Publicidad y la economía de la atención\n",
    "\n",
    "_En un mundo disperso y bombardeado de distracciones, tener foco es un superpoder_\n",
    "* Nociones de cómo funciona la publicidad y porqué todos los productos quieren nuestra atención 100% del tiempo.\n",
    "* Nociones de flow state y deep work"
   ]
  },
  {
   "cell_type": "markdown",
   "metadata": {
    "slideshow": {
     "slide_type": "slide"
    }
   },
   "source": [
    "# 1. Transformando un curso con python\n",
    "\n",
    "### Comunidad y open source\n",
    "\n",
    "* FOSS (Free Open Source Software) está presente en todas las empresas\n",
    "* Contribuir en un FOSS es un imperativo ético (y skill marketeable)\n",
    "* Encontrar y crear comunidades de interés\n",
    "* Participar en eventos de tecnología\n",
    "* Tareas: \n",
    "    * Contribuir en la documentación de un proyecto de Open Source\n",
    "    * Hacer un Pull Request en un proyecto de Open Source\n",
    "    * Editar un artículo en wikipedia"
   ]
  },
  {
   "cell_type": "markdown",
   "metadata": {
    "slideshow": {
     "slide_type": "slide"
    }
   },
   "source": [
    "### 1. Transformando un curso con python\n",
    "\n",
    "# Importante\n",
    "\n",
    "Curso fue tremendamente exitoso y muy valorado por los estudiantes.\n",
    "\n",
    "Presento el caso exitoso. Pero también he dictado otros cursos sin el mismo éxito: \n",
    "* _Matemáticas 1_ (cálculo y álgebra primer año ingeniería)\n",
    "* _Introducción a la programación_ (python primer año ingeniería)"
   ]
  },
  {
   "cell_type": "markdown",
   "metadata": {
    "slideshow": {
     "slide_type": "slide"
    }
   },
   "source": [
    "### 1. Transformando un curso con python\n",
    "\n",
    "# ¿Qué aprendí?\n",
    "\n",
    "Considerar el curso como un producto (de software) donde los estudiantes son los clientes:\n",
    "* Pedir retroalimentación de manera frecuente.\n",
    "* Estar en sintonía con las herramientas de la industria.\n",
    "* Mejorar iterativamente el contenido."
   ]
  },
  {
   "cell_type": "markdown",
   "metadata": {
    "slideshow": {
     "slide_type": "slide"
    }
   },
   "source": [
    "# 1. Transformando un curso con python\n",
    "\n",
    "## ¿Qué aprendí?\n",
    "\n",
    "* Ponerse en los zapatos de un estudiante: ¡no olvidar lo que es no saber!\n",
    "* Experimentar. Atreverse a que las cosas no resulten durante la clase."
   ]
  },
  {
   "cell_type": "markdown",
   "metadata": {
    "slideshow": {
     "slide_type": "slide"
    }
   },
   "source": [
    "# 1. Transformando un curso con python\n",
    "\n",
    "## ¿Qué aprendí?\n",
    "\n",
    "* Enseñar habilidades y competencias, por sobre contenido.\n",
    "* _\"Learn in case\"_ vs _\"learn in need\"_.\n"
   ]
  },
  {
   "cell_type": "markdown",
   "metadata": {
    "slideshow": {
     "slide_type": "slide"
    }
   },
   "source": [
    "# 1. Transformando un curso con python\n",
    "\n",
    "## ¿Qué aprendí?\n",
    "\n",
    "* Genera impacto a través de transparencia y crear hacia la comunidad.\n",
    "* Sólo podemos inspirar a que alguien aprenda por sí mismo.\n",
    "* Que las evaluaciones no sean irrelevantes."
   ]
  },
  {
   "cell_type": "markdown",
   "metadata": {
    "slideshow": {
     "slide_type": "slide"
    }
   },
   "source": [
    "# 1. Transformando un curso con python\n",
    "\n",
    "## ¿Qué aprendí?\n",
    "\n",
    "Usa ejemplos reales, imágenes y videos atractivos, datasets interesantes.\n",
    "* https://archive.ics.uci.edu/ml/datasets.php\n",
    "* https://es.datachile.io/\n",
    "* http://datagramas.cl/courses/infovis/resources/"
   ]
  },
  {
   "cell_type": "markdown",
   "metadata": {
    "slideshow": {
     "slide_type": "slide"
    }
   },
   "source": [
    "## ¿Qué aprendí?\n",
    "\n",
    "<img src=\"images/DPS2.jpg\" style=\"height:500px;\">\n",
    "\n",
    "## No dictes un curso, ¡comienza una revolución!\n",
    "\n"
   ]
  },
  {
   "cell_type": "markdown",
   "metadata": {
    "slideshow": {
     "slide_type": "slide"
    }
   },
   "source": [
    "# 2. Algunas herramientas recomendadas\n",
    "\n",
    "¿Qué resultados arrojó la encuesta?"
   ]
  },
  {
   "cell_type": "markdown",
   "metadata": {
    "slideshow": {
     "slide_type": "slide"
    }
   },
   "source": [
    "<img src=\"images/Q1.png\" style=\"height:600px;\">"
   ]
  },
  {
   "cell_type": "markdown",
   "metadata": {
    "slideshow": {
     "slide_type": "slide"
    }
   },
   "source": [
    "<img src=\"images/Q3.png\" style=\"height:600px;\">"
   ]
  },
  {
   "cell_type": "markdown",
   "metadata": {
    "slideshow": {
     "slide_type": "slide"
    }
   },
   "source": [
    "<img src=\"images/Q5.png\" style=\"height:800px;\">"
   ]
  },
  {
   "cell_type": "markdown",
   "metadata": {
    "slideshow": {
     "slide_type": "slide"
    }
   },
   "source": [
    "# 2. Herramientas recomendadas\n",
    "\n",
    "* jupyter notebok + rise\n",
    "* streamlit\n",
    "* scipy"
   ]
  },
  {
   "cell_type": "markdown",
   "metadata": {
    "slideshow": {
     "slide_type": "slide"
    }
   },
   "source": [
    "##### 2.1 rise\n",
    "\n",
    "En lugar de mostrar una larga página web con las celdas, las celdas **se agrupan** en diapositivas. \n",
    "\n",
    "Las distintas celdas pueden ser editadas y ejecutadas *DURANTE LA PRESENTACIÓN*.\n",
    "\n",
    "Se usa la librería de javascript [reveal.js](https://revealjs.com/). \n"
   ]
  },
  {
   "cell_type": "markdown",
   "metadata": {
    "slideshow": {
     "slide_type": "fragment"
    }
   },
   "source": [
    "Con **herramientas** de *markdown*, <font style=\"color:green\">html</font> y latex: $ e^{i \\pi} + 1 = 0 $\n"
   ]
  },
  {
   "cell_type": "code",
   "execution_count": null,
   "metadata": {
    "slideshow": {
     "slide_type": "fragment"
    }
   },
   "outputs": [],
   "source": [
    "# kernels, en particular python\n",
    "print(\"Hola \\U0001F30E\")"
   ]
  },
  {
   "cell_type": "markdown",
   "metadata": {
    "slideshow": {
     "slide_type": "slide"
    }
   },
   "source": [
    "##### 2.1 rise"
   ]
  },
  {
   "cell_type": "markdown",
   "metadata": {
    "slideshow": {
     "slide_type": "fragment"
    }
   },
   "source": [
    "#### Ventajas\n",
    "\n",
    "* Simplificar la **generación** de material. \n",
    "\n",
    "* Simplificar la **distribución** del material."
   ]
  },
  {
   "cell_type": "markdown",
   "metadata": {
    "slideshow": {
     "slide_type": "fragment"
    }
   },
   "source": [
    "#### Desventajas\n",
    "\n",
    "* RISE funciona sólo con Jupyter Notebook. No funciona con Jupyter Lab ni con Google Colaboratory.\n",
    "* Es completamente interactivo, con todos los riesgos y beneficios que eso representa."
   ]
  },
  {
   "cell_type": "markdown",
   "metadata": {
    "slideshow": {
     "slide_type": "slide"
    }
   },
   "source": [
    "##### 2.1 rise: ¿Qué contenido incluir?\n",
    "\n",
    "Todo lo que ya incluyes en Jupyter Notebook: puedes mezclar contenido usando las celdas de markdown y código, según necesites: \n",
    "* **Markdown**: texto, latex, imágenes, tablas, etc.\n",
    "* **Código**: código, gráficos simples o interactivos, videos, sonido, iframes, javascript, entre otros."
   ]
  },
  {
   "cell_type": "markdown",
   "metadata": {
    "slideshow": {
     "slide_type": "slide"
    }
   },
   "source": [
    "##### 2.1 rise: fotos y GIFs Animados\n",
    "\n",
    "Incluir gifs animados es igual de fácil que incluir imágenes, y suele ayudar a tener apoyos visuales atractivos.\n",
    "\n",
    "<img src=\"images/meme.png\" style=\"height:200px;\">\n",
    "<img src=\"images/rick.gif\" style=\"height:200px;\">\n"
   ]
  },
  {
   "cell_type": "markdown",
   "metadata": {
    "slideshow": {
     "slide_type": "slide"
    }
   },
   "source": [
    "##### 2.1 rise: gráficos\n",
    "\n",
    "Para mostrar gráficos resulta práctico que no se genere una ventana adicional, sino que se agreguen a la celda de resultados. Esta es una práctica común en jupyter notebook/lab, pero es más importante aún al pensar en las diapositivas."
   ]
  },
  {
   "cell_type": "code",
   "execution_count": null,
   "metadata": {},
   "outputs": [],
   "source": [
    "%matplotlib inline\n",
    "from matplotlib import pyplot as plt\n",
    "import numpy as np\n",
    "\n",
    "with plt.xkcd():\n",
    "    fig = plt.figure(figsize=(14,6))\n",
    "    x = np.linspace(-5,5,num=1000)\n",
    "    y = np.abs(np.abs(np.sin(5*x)/x))\n",
    "    plt.plot(x,y)"
   ]
  },
  {
   "cell_type": "code",
   "execution_count": null,
   "metadata": {
    "slideshow": {
     "slide_type": "slide"
    }
   },
   "outputs": [],
   "source": [
    "import numpy as np\n",
    "import matplotlib.pyplot as plt\n",
    "dt = 0.01\n",
    "t = np.arange(0.0, 2.0, dt)\n",
    "s = np.sin(2*np.pi*t)\n",
    "\n",
    "plt.figure(figsize=(12,6))\n",
    "plt.plot(t, s)\n",
    "plt.title(r'$\\alpha_i > \\beta_i$', fontsize=20)\n",
    "plt.text(1, -0.6, r'$\\sum_{i=0}^\\infty x_i$', fontsize=20)\n",
    "plt.text(0.6, 0.6, r'$\\mathcal{A}\\mathrm{sin}(2 \\omega t)$',\n",
    "         fontsize=20)\n",
    "plt.xlabel('time (s)')\n",
    "plt.ylabel('volts (mV)')\n",
    "plt.show()"
   ]
  },
  {
   "cell_type": "markdown",
   "metadata": {
    "slideshow": {
     "slide_type": "slide"
    }
   },
   "source": [
    "##### 2.1 rise: IPython.display"
   ]
  },
  {
   "cell_type": "code",
   "execution_count": null,
   "metadata": {},
   "outputs": [],
   "source": [
    "from IPython.display import Audio, Image, display\n",
    "a = Audio(\"http://www.w3schools.com/html/horse.ogg\")\n",
    "i = Image(filename=\"images/Python.png\", width=100)\n",
    "display(a,i)"
   ]
  },
  {
   "cell_type": "code",
   "execution_count": null,
   "metadata": {},
   "outputs": [],
   "source": [
    "from IPython.display import Javascript\n",
    "Javascript('alert(\"¡¡Tenemos javascript!!\");')"
   ]
  },
  {
   "cell_type": "markdown",
   "metadata": {
    "slideshow": {
     "slide_type": "slide"
    }
   },
   "source": [
    "##### 2.1 rise: widgets"
   ]
  },
  {
   "cell_type": "code",
   "execution_count": null,
   "metadata": {},
   "outputs": [],
   "source": [
    "%matplotlib inline\n",
    "import ipywidgets as widgets\n",
    "import numpy as np\n",
    "import matplotlib.pyplot as plt\n",
    "\n",
    "@widgets.interact(grado=(0, 9), N_puntos=(5,35))\n",
    "def mi_plot(grado=3, N_puntos=5):    \n",
    "    x = np.linspace(-10, 10, N_puntos)\n",
    "    y = x**grado\n",
    "    plt.figure(figsize=(12,8))\n",
    "    plt.plot(x, y, 'ro-')\n",
    "    plt.show()"
   ]
  },
  {
   "cell_type": "markdown",
   "metadata": {
    "slideshow": {
     "slide_type": "slide"
    }
   },
   "source": [
    "##### 2.1 rise: clases\n",
    "Al empaquetar tu código con clases, asegúrate de incluir una función `_repr_html_` para poder interactuar nativamente con jupyter notebook (y RISE):"
   ]
  },
  {
   "cell_type": "code",
   "execution_count": null,
   "metadata": {},
   "outputs": [],
   "source": [
    "class Alerta(object):\n",
    "    \n",
    "    def __init__(self, text):\n",
    "        self.text = \"\\U000026A0 - \" + text.upper()\n",
    "\n",
    "    def _repr_html_(self):\n",
    "        return \"<h1 style='color:white;background:red;padding:30px'>\" + self.text + \"</h1>\""
   ]
  },
  {
   "cell_type": "code",
   "execution_count": null,
   "metadata": {},
   "outputs": [],
   "source": [
    "Alerta(\"Comenzar a hablar de RISE\")"
   ]
  },
  {
   "cell_type": "markdown",
   "metadata": {
    "slideshow": {
     "slide_type": "slide"
    }
   },
   "source": [
    "###### 2.1 rise\n",
    "\n",
    "* ¿Para qué podría usarse?\n",
    "    * Centralizar el material en un único repositorio.\n",
    "* Más información: \n",
    "    * Página oficial: https://rise.readthedocs.io/\n",
    "    * Charla Pycon pylatam: https://github.com/sebastiandres/talk_2021_08_pylatam\n",
    "    * Tutorial: https://sebastiandres.github.io/blog/tutorial-rise/"
   ]
  },
  {
   "cell_type": "markdown",
   "metadata": {
    "slideshow": {
     "slide_type": "slide"
    }
   },
   "source": [
    "###### 2.2 Streamlit\n",
    "\n",
    "La librería streamlit permite crear aplicaciones web de manera extremadamente simple."
   ]
  },
  {
   "cell_type": "code",
   "execution_count": null,
   "metadata": {},
   "outputs": [],
   "source": [
    "from IPython.display import IFrame\n",
    "IFrame(\"https://share.streamlit.io/sebastiandres/talk_2021_11_pyconcl/main\", width=600, height=450)"
   ]
  },
  {
   "cell_type": "markdown",
   "metadata": {
    "slideshow": {
     "slide_type": "slide"
    }
   },
   "source": [
    "###### 2.2 Streamlit\n",
    "* ¿Para qué podría usarse?\n",
    "    * Crear tareas y proyectos con impacto real en las comunidades: desde python básico a avanzado. \n",
    "    * Ayudar a los estudiantes a crear un portafolio de proyectos.\n",
    "* Más información: \n",
    "    * Página oficial: https://streamlit.io/\n",
    "    * Charla en Pycon Chile: https://github.com/sebastiandres/talk_2021_11_pyconcl"
   ]
  },
  {
   "cell_type": "markdown",
   "metadata": {
    "slideshow": {
     "slide_type": "slide"
    }
   },
   "source": [
    "###### 2.3 scipy \n",
    "\n",
    "La librería scipy complementa numpy, disponibilizando una gran cantidad de algoritmos científicos.\n"
   ]
  },
  {
   "cell_type": "markdown",
   "metadata": {
    "slideshow": {
     "slide_type": "slide"
    }
   },
   "source": [
    "En scipy existen muchos submódulos específicos para ciencia:\n",
    "\n",
    "\n",
    "* `scipy.cluster`\tVector quantization / Kmeans\n",
    "* `scipy.constants`\tConstantes físicas y matemáticas\n",
    "* `scipy.fftpack`\tTransformadas de Fourier\n",
    "* `scipy.integrate`\tRutinas para integración\n",
    "* `scipy.interpolate`\tInterpolación\n",
    "* `scipy.io`\tEntrada y salida\n",
    "* `scipy.linalg`\tRutinas para algebra lineal\n"
   ]
  },
  {
   "cell_type": "markdown",
   "metadata": {
    "slideshow": {
     "slide_type": "slide"
    }
   },
   "source": [
    "* `scipy.ndimage`\tn-dimensional image package\n",
    "* `scipy.odr`\tOrthogonal distance regression\n",
    "* `scipy.optimize`\tOptimización\n",
    "* `scipy.signal`\tProcesamiento de señales\n",
    "* `scipy.sparse`\tMatrices dispersas\n",
    "* `scipy.spatial`\testructuras de datos espaciales y algoritmos\n",
    "* `scipy.special`\tFunciones matemáticas especiales\n",
    "* `scipy.stats`\tEstadística"
   ]
  },
  {
   "cell_type": "markdown",
   "metadata": {
    "slideshow": {
     "slide_type": "slide"
    }
   },
   "source": [
    "## Ecuaciones\n",
    "\n",
    "Para resolver un sistema de ecuaciones usamos numpy y scipy:\n",
    "\n",
    "$$\n",
    "x + y + z = 1 \\\\\n",
    "x - y + z = 2 \\\\\n",
    "x + y - z = 3 \\\\\n",
    "$$"
   ]
  },
  {
   "cell_type": "code",
   "execution_count": null,
   "metadata": {
    "slideshow": {
     "slide_type": "slide"
    }
   },
   "outputs": [],
   "source": [
    "# Importar las librerías\n",
    "import numpy as np\n",
    "from scipy.linalg import solve\n",
    "\n",
    "# define matrix A using Numpy arrays\n",
    "A = np.array([[1, 1, 1],\n",
    "              [1,-1, 1],\n",
    "              [1, 1,-1]])\n",
    "#define matrix B\n",
    "b = np.array([1, 2, 3]) \n",
    "# linalg.solve is the function of NumPy to solve a system of linear scalar equations\n",
    "x = solve(A, b)\n",
    "print(\"Solución:\\n\", x)"
   ]
  },
  {
   "cell_type": "code",
   "execution_count": null,
   "metadata": {},
   "outputs": [],
   "source": [
    "# Verifiquemos\n",
    "print(\"A*x=\", A@x)"
   ]
  },
  {
   "cell_type": "markdown",
   "metadata": {
    "slideshow": {
     "slide_type": "slide"
    }
   },
   "source": [
    "También es posible calcular la matriz inversa y multiplicar, pero para sistemas de ecuaciones grandes es muy ineficiente."
   ]
  },
  {
   "cell_type": "code",
   "execution_count": null,
   "metadata": {},
   "outputs": [],
   "source": [
    "from scipy.linalg import inv\n",
    "# Invertir explícitamente una matrix\n",
    "A_inv = inv(A)\n",
    "print(\"A^{-1}=\\n\", A_inv)\n",
    "print(\"A^{-1} * x =\\n\", A_inv @ b)"
   ]
  },
  {
   "cell_type": "markdown",
   "metadata": {
    "slideshow": {
     "slide_type": "slide"
    }
   },
   "source": [
    "Ejemplo para clases:\n",
    "\n",
    "![ecuacionmemistica](images/ecuacion.jpg)"
   ]
  },
  {
   "cell_type": "code",
   "execution_count": null,
   "metadata": {
    "slideshow": {
     "slide_type": "slide"
    }
   },
   "outputs": [],
   "source": [
    "# Solución\n",
    "import numpy as np\n",
    "from scipy.linalg import solve\n",
    "\n",
    "# Buscaremos resover x = [manzana, banana, coco]\n",
    "\n",
    "# define matrix A using Numpy arrays\n",
    "A = np.array([[3, 0, 0],\n",
    "              [1, 8, 0],\n",
    "              [0, 4,-2]])\n",
    "\n",
    "#define matrix B\n",
    "b = np.array([30, 18, 2]) \n",
    "\n",
    "# linalg.solve is the function of NumPy to solve a system of linear scalar equations\n",
    "x = np.linalg.solve(A, b)\n",
    "print(\"Valores individuales:\\n\", x)\n",
    "print(\"Solución:\\n\", np.dot(x, np.array([1,3,1])))"
   ]
  },
  {
   "cell_type": "markdown",
   "metadata": {
    "slideshow": {
     "slide_type": "skip"
    }
   },
   "source": [
    "###### 2.3 scipy\n",
    "* ¿Para qué podría usarse?\n",
    "    * Resolver todo tipo de problemas de origen matemático o científico: matrices (determinante, valores/vectores propios, descomposiciones), ecuaciones diferenciales ordinarias, ecuaciones diferenciales parciales, optimización, etc.\n",
    "    * Comparar una implementación \"naive\" con la implementación oficial.\n",
    "* Más información: \n",
    "    * Página oficial: https://docs.scipy.org/doc/\n",
    "    * Recetario scipy: https://scipy-cookbook.readthedocs.io/"
   ]
  },
  {
   "cell_type": "markdown",
   "metadata": {
    "slideshow": {
     "slide_type": "slide"
    }
   },
   "source": [
    "# 3. Aprendiendo Machine Learning, Deep Learning y/o Data Science"
   ]
  },
  {
   "cell_type": "markdown",
   "metadata": {
    "slideshow": {
     "slide_type": "fragment"
    }
   },
   "source": [
    "Breve y modesta **motivación**..."
   ]
  },
  {
   "cell_type": "markdown",
   "metadata": {
    "slideshow": {
     "slide_type": "fragment"
    }
   },
   "source": [
    "_Machine learning algorithms can figure out how to perform important tasks by generalizing from examples. This is often feasible and cost-effective where manual programming is not. As more data becomes available, more ambitious problems can be tackled_\n",
    "\n",
    "Pedro Domingos: [A Few Useful Things to Know about Machine Learning](https://homes.cs.washington.edu/~pedrod/papers/cacm12.pdf)\n"
   ]
  },
  {
   "cell_type": "markdown",
   "metadata": {
    "Collapsed": "false",
    "slideshow": {
     "slide_type": "slide"
    }
   },
   "source": [
    "#### Machine Learning\n",
    "\n",
    "-   Estudia y construye sistemas que pueden aprender de los datos, más\n",
    "    que seguir instrucciones explícitamente programadas.\n",
    "\n",
    "-   Machine Learning es un conjunto de técnicas y modelos que permiten\n",
    "    el modelamiento predictivo de datos, reunidas a partir de la\n",
    "    intersección de elementos de probabilidad, estadística e\n",
    "    inteligencia artificial.\n",
    "\n",
    "-   Pregunta fundamental:\n",
    "    ¿Qué conocimiento emerge a partir de los datos? ¿Qué modelo/técnica\n",
    "    otorga la mejor predicción para estos datos?\n",
    "    \n"
   ]
  },
  {
   "cell_type": "markdown",
   "metadata": {
    "Collapsed": "false",
    "slideshow": {
     "slide_type": "slide"
    }
   },
   "source": [
    "#### Data Science\n",
    "\n",
    "-   Se preocupa de la practicidad de resolver problemas complejos\n",
    "    utilizando datos.\n",
    "\n",
    "-   Data Science es la aplicación de diversas técnicas de modelamiento con un fin específico. También se conoce como eScience.\n",
    "\n",
    "-   La base de datos a utilizar no ha sido necesariamente creada.\n",
    "\n",
    "-   Típicamente, un data scientist se encuentra en la industria, buscando automatizar un análisis complejo para un cliente (interno o externo).\n",
    "\n",
    "-   Pregunta fundamental:\n",
    "    ¿Qué puedo decir de **X** a partir de los datos?"
   ]
  },
  {
   "cell_type": "markdown",
   "metadata": {
    "Collapsed": "false",
    "slideshow": {
     "slide_type": "slide"
    }
   },
   "source": [
    "#### Inteligencia Artificial\n",
    "\n",
    "- Tiene por objetivo hacer que el computador ejecute tareas para las cuales el hombre, en un contexto dado, es actualmente mejor que la máquina.\n",
    "\n",
    "- Es un concepto más amplio que Machine Learning, en el sentido de definir el concepto de _inteligencia_.\n",
    "\n",
    "- Algunos enfoques de inteligencia considerean que tiene que ver principalmente con acciones racionales. Que un agente inteligente es capaz de percibir y actuar, realizando la mejor acción posible en una situación dada. \n",
    "\n",
    "-   Pregunta fundamental:\n",
    "    ¿Puedo modelar el problema pero que su resolución no es razonablemente factible por algoritmos existentes?"
   ]
  },
  {
   "cell_type": "markdown",
   "metadata": {
    "Collapsed": "false",
    "slideshow": {
     "slide_type": "slide"
    }
   },
   "source": [
    "#### Big Data\n",
    "- Caracterizado por 4 V:\n",
    "    * **Volumen**: ¿Cuántos datos se requiere procesar? ¿Terabytes, Exabytes, Zettabytes?\n",
    "    * **Variedad**: ¿Qué patrón siguen los datos? ¿SQL o noSQL?\n",
    "    * **Velocidad**: ¿Con que velocidad podemos procesar los datos? ¿A qué velocidad se generan?\n",
    "    * **Veracidad**: ¿Qué tan confiables son los datos? \n",
    "-   Pregunta fundamental:\n",
    "    ¿Cómo proceso esta monstruosidad de datos?"
   ]
  },
  {
   "cell_type": "markdown",
   "metadata": {
    "Collapsed": "false",
    "slideshow": {
     "slide_type": "slide"
    }
   },
   "source": [
    "Es usual ver en LinkedIn, foros y/o blogs una serie de infografías tratando de definir o separar conceptos. Al no existir límites fijos, estas infografías suelen variar entre autores. \n",
    "\n",
    "**No creas todo lo que ves.**\n",
    "\n",
    "My opinión personal: No todo lo que brilla es oro. No soy fan de estas infografías o diagramas."
   ]
  },
  {
   "cell_type": "markdown",
   "metadata": {
    "Collapsed": "false",
    "slideshow": {
     "slide_type": "slide"
    }
   },
   "source": [
    "<img src=\"images/DS1.png\" alt=\"\" width=\"600\" align=\"middle\"/>"
   ]
  },
  {
   "cell_type": "markdown",
   "metadata": {
    "Collapsed": "false",
    "slideshow": {
     "slide_type": "slide"
    }
   },
   "source": [
    "<img src=\"images/DS2.png\" alt=\"\" width=\"800\" align=\"middle\"/>"
   ]
  },
  {
   "cell_type": "markdown",
   "metadata": {
    "Collapsed": "false",
    "slideshow": {
     "slide_type": "slide"
    }
   },
   "source": [
    "<img src=\"images/ML.png\" alt=\"\" width=\"800\" align=\"middle\"/>"
   ]
  },
  {
   "cell_type": "markdown",
   "metadata": {
    "Collapsed": "false",
    "slideshow": {
     "slide_type": "slide"
    }
   },
   "source": [
    "<a id='modeling'></a>\n",
    "## Modelamiento\n",
    "\n",
    "### ¿Qué es un modelo?\n",
    "\n",
    "- Un modelo es\n",
    "    * Una representación abstracta y conveniente de un sistema.\n",
    "    * Una simplificación del mundo real.\n",
    "    * Un medio de exploración y de explicación para nuestro entendimiento de la realidad.\n",
    "- Un modelo NO es\n",
    "    * Igual al mundo real.\n",
    "    * Un sustituto para mediciones o experimentos."
   ]
  },
  {
   "cell_type": "markdown",
   "metadata": {
    "Collapsed": "false",
    "slideshow": {
     "slide_type": "slide"
    }
   },
   "source": [
    "<a id='modeling'></a>\n",
    "## Modelamiento\n",
    "\n",
    "## ¿Por qué utilizar modelos?\n",
    "\n",
    "* Permiten reproducir escalas temporales o espaciales donde las mediciones o los experimentos son costosos, difíciles o imposibles.\n",
    "    - Ejemplo: deriva continental, impacto de asteroides, evolución de enfermedades, etc.\n",
    "* Es mejor que no hacer nada o confiar en juicios dudosos de terceros.\n",
    "    - Ejemplo: Predicción meteorológica versus danza de la lluvia."
   ]
  },
  {
   "cell_type": "markdown",
   "metadata": {
    "Collapsed": "false",
    "slideshow": {
     "slide_type": "slide"
    }
   },
   "source": [
    "    \"All models are wrong, \n",
    "    some are useful\" - George Box\""
   ]
  },
  {
   "cell_type": "markdown",
   "metadata": {
    "Collapsed": "false",
    "slideshow": {
     "slide_type": "slide"
    }
   },
   "source": [
    "<a id='modeling'></a>\n",
    "## Modelamiento\n",
    "  \n",
    "### Objetivos del modelamiento\n",
    "\n",
    "* Ayudar al diseño de experimentos y mediciones.\n",
    "* Condensar entendimiento al forzar la abstracción, integración y formalización de ideas científicas.\n",
    "* Permitir la realización de experimentos virtuales.\n",
    "* Divulgar conocimiento científico a no-expertos.\n",
    "* Realizar predicciones.\n",
    "\n",
    "***El modelamiento nunca es un objetivo en sí mismo.***"
   ]
  },
  {
   "cell_type": "markdown",
   "metadata": {
    "Collapsed": "false",
    "slideshow": {
     "slide_type": "slide"
    }
   },
   "source": [
    "<a id='modeling'></a>\n",
    "## Modelamiento\n",
    "\n",
    "### Algunos principios básicos\n",
    "\n",
    "1. Un mismo fenómeno físico puede tener distintos modelos, cada uno apropiado para el estudio de un cierto aspecto del fenómeno.\n",
    "2. Modelamiento require tiempo: es necesario determinar el nivel de complejidad en función los resultados deseados y del tiempo disponible.\n",
    "3. GIGO: Garbage In = Garbage Out: Un buen modelo no compensa malos datos de entrada.\n",
    "5. Todo modelo es una simplificación de la realidad.\n",
    "7. Que algo se pueda simular, no significa que se corresponda con la realidad.\n",
    "8. Validación completa del un modelo es imposible, al igual que cualquier teoría."
   ]
  },
  {
   "cell_type": "markdown",
   "metadata": {
    "Collapsed": "false",
    "slideshow": {
     "slide_type": "slide"
    }
   },
   "source": [
    "    \"Everyone believes the recorded data, \n",
    "    except the scientist that record it.\n",
    "    No one believes the model, \n",
    "    except for the scientist that created it.\" \n",
    "    - Unknown\n"
   ]
  },
  {
   "cell_type": "markdown",
   "metadata": {
    "Collapsed": "false",
    "slideshow": {
     "slide_type": "slide"
    }
   },
   "source": [
    "<img src=\"images/ModelComplexity1.png\" alt=\"\" width=\"800px\" align=\"middle\"/>"
   ]
  },
  {
   "cell_type": "markdown",
   "metadata": {
    "Collapsed": "false",
    "slideshow": {
     "slide_type": "slide"
    }
   },
   "source": [
    "#### Actividad Práctica\n",
    "\n",
    "Realizaremos una actividad práctica de aprendizaje:\n",
    "\n",
    "Objetivo:\n",
    "* Aprender diferencia entre parámetros y metaparámetros de un modelo.\n",
    "* Aprender la importancia de la cantidad de datos de entrenamiento.\n",
    "* Aprender la diferencia entre datos de entrenamiento, testeo y validación.\n",
    "\n",
    "Enlace: [https://share.streamlit.io/sebastiandres/streamlit_ml_edu/main](https://share.streamlit.io/sebastiandres/streamlit_ml_edu/main)"
   ]
  },
  {
   "cell_type": "markdown",
   "metadata": {
    "Collapsed": "false",
    "slideshow": {
     "slide_type": "slide"
    }
   },
   "source": [
    "#### Consejos\n",
    "\n",
    "Excelente artículo de Pedro Domingos: [A Few Useful Things to Know about Machine Learning](https://homes.cs.washington.edu/~pedrod/papers/cacm12.pdf).\n",
    "\n",
    "1. Learning = Representation + Evaluation + Optimization\n",
    "2. La meta fundamental es generalizar a partir de los ejemplos.\n",
    "3. Sólo tener datos no es suficiente.\n",
    "4. Cuidado con overfitting en el modelo.\n",
    "5. La intuición es difícil en grandes dimensiones."
   ]
  },
  {
   "cell_type": "markdown",
   "metadata": {
    "slideshow": {
     "slide_type": "slide"
    }
   },
   "source": [
    "# 3. Machine Learning\n",
    "\n",
    "## ¿Cómo seguir?\n",
    "\n",
    "\n",
    "* ¡Existe un sitio con una animación increíble!: [http://www.r2d3.us/](http://www.r2d3.us/)\n",
    "* Kaggle: datasets, comunidad, muchos problemas (sintéticos y reales).\n",
    "* Muchos cursos en línea, libros, etc. El problema no es acceso, sino seleccionar buenas fuentes y dedicarle tiempo.\n"
   ]
  }
 ],
 "metadata": {
  "celltoolbar": "Slideshow",
  "kernelspec": {
   "display_name": "Python 3",
   "language": "python",
   "name": "python3"
  },
  "language_info": {
   "codemirror_mode": {
    "name": "ipython",
    "version": 3
   },
   "file_extension": ".py",
   "mimetype": "text/x-python",
   "name": "python",
   "nbconvert_exporter": "python",
   "pygments_lexer": "ipython3",
   "version": "3.7.4"
  },
  "nbTranslate": {
   "displayLangs": [
    "*"
   ],
   "hotkey": "alt-t",
   "langInMainMenu": true,
   "sourceLang": "en",
   "targetLang": "fr",
   "useGoogleTranslate": true
  },
  "rise": {
   "_theme_options": [
    "black",
    "white",
    "league",
    "beige",
    "sky",
    "night",
    "serif"
   ],
   "_transition_options": [
    "none",
    "fade",
    "slide",
    "convex",
    "concave",
    "zoom"
   ],
   "autolaunch": false,
   "backimage": "images/background.png",
   "enable_chalkboard": false,
   "header": "<h2 style='margin-left:200px;margin-top:20px;color:white;'>Pedagogía con Python, @sebastiandres</h2>",
   "theme": "simple",
   "transition": "slide"
  },
  "varInspector": {
   "cols": {
    "lenName": 16,
    "lenType": 16,
    "lenVar": 40
   },
   "kernels_config": {
    "python": {
     "delete_cmd_postfix": "",
     "delete_cmd_prefix": "del ",
     "library": "var_list.py",
     "varRefreshCmd": "print(var_dic_list())"
    },
    "r": {
     "delete_cmd_postfix": ") ",
     "delete_cmd_prefix": "rm(",
     "library": "var_list.r",
     "varRefreshCmd": "cat(var_dic_list()) "
    }
   },
   "types_to_exclude": [
    "module",
    "function",
    "builtin_function_or_method",
    "instance",
    "_Feature"
   ],
   "window_display": false
  }
 },
 "nbformat": 4,
 "nbformat_minor": 4
}
